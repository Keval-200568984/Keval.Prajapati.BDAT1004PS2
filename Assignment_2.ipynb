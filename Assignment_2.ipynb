{
 "cells": [
  {
   "cell_type": "markdown",
   "id": "a7242cf3",
   "metadata": {},
   "source": [
    "# Assignment 2\n"
   ]
  },
  {
   "cell_type": "markdown",
   "id": "3c94c4d8",
   "metadata": {},
   "source": [
    "### Question 1\n",
    "**Consider the following Python module**:\n",
    "a = 0\n",
    "def b():\n",
    "global a\n",
    "a = c(a)\n",
    "def c(a):\n",
    "return a + 2\n",
    "After importing the module into the interpreter, you execute:\n",
    "- b()\n",
    "- b()\n",
    "- b()\n",
    "-  a\n",
    "?\n",
    "What value is displayed when the last expression (a) is evaluated? Explain your answer by indicating what happens in every executed statement."
   ]
  },
  {
   "cell_type": "code",
   "execution_count": 1,
   "id": "f1cd2368",
   "metadata": {},
   "outputs": [
    {
     "data": {
      "text/plain": [
       "6"
      ]
     },
     "execution_count": 1,
     "metadata": {},
     "output_type": "execute_result"
    }
   ],
   "source": [
    "a = 0\n",
    "\n",
    "def b():\n",
    "    global a\n",
    "    a = c(a)\n",
    "def c(a):\n",
    "    return a + 2\n",
    "\n",
    "b()\n",
    "b()\n",
    "b()\n",
    "a"
   ]
  },
  {
   "cell_type": "markdown",
   "id": "616f04c2",
   "metadata": {},
   "source": [
    "### Question 2\n",
    "**Function fileLength(), given to you, takes the name of a file as input and returns the length of the file**:\n",
    "\n",
    "- fileLength('midterm.py') \n",
    "284 \n",
    "- fileLength('idterm.py') \n",
    "Traceback (most recent call last): \n",
    "    File \"<pyshell#34>\", line 1, in <module>\n",
    "        fileLength('idterm.py') \n",
    "    File \"/Users/me/midterm.py\", line 3, in fileLength \n",
    "        infile = open(filename) \n",
    "    FileNotFoundError: [Errno 2] No such file or directory: 'idterm.py'\n",
    "    \n",
    "As shown above, if the file cannot be found by the interpreter or if it cannot be read as a text file, an exception will be raised. Modify function fileLength() so that a friendly message is printed instead: \n",
    "\n",
    "- fileLength('midterm.py')\n",
    "358 \n",
    "- fileLength('idterm.py') \n",
    "File idterm.py not found."
   ]
  },
  {
   "cell_type": "code",
   "execution_count": 2,
   "id": "2d585bd5",
   "metadata": {},
   "outputs": [
    {
     "name": "stdout",
     "output_type": "stream",
     "text": [
      "123\n",
      "None\n",
      "File 'idterm.py' not found.\n"
     ]
    }
   ],
   "source": [
    "#Define function 'fileLength'\n",
    "def fileLength(file_name):\n",
    "    #Try to open the file and read the contents\n",
    "    try:\n",
    "        file = open(file_name)\n",
    "        contents = file.read()\n",
    "        \n",
    "        # Close the file\n",
    "        file.close()\n",
    "        \n",
    "        #Print the length of the contents\n",
    "        print(len(contents))\n",
    "    \n",
    "    # Handle the case where the file is not found\n",
    "    except FileNotFoundError:\n",
    "        return f\"File '{file_name}' not found.\"\n",
    "\n",
    "\n",
    "# Test case: 1\n",
    "result = fileLength(r\"C:\\Users\\keval\\Desktop\\Georgain\\Data Programming\\Assignments\\Ass2\\Filelength.txt\")\n",
    "print(result)\n",
    "\n",
    "# Test case: 2\n",
    "result = fileLength('idterm.py')\n",
    "print(result)\n"
   ]
  },
  {
   "cell_type": "markdown",
   "id": "c10f6e7f",
   "metadata": {},
   "source": [
    "### Question 3\n",
    "**Write a class named Marsupial that can be used as shown below**: \n",
    "\n",
    "- m = Marsupial() \n",
    "- m.put_in_pouch('doll') \n",
    "- m.put_in_pouch('firetruck') \n",
    "- m.put_in_pouch('kitten') \n",
    "- m.pouch_contents() \n",
    "\n",
    "['doll', 'firetruck', 'kitten']\n",
    "\n",
    "Now write a class named **Kangaroo** as a subclass of **Marsupial** that inherits all the attributes of **Marsupial** and also:\n",
    "\n",
    "    a. extends the Marsupial __init__ constructor to take, as input, the coordinates x and y of the Kangaroo object,\n",
    "    b. supports method jump that takes number values dx and dy as input and moves the kangaroo by dx units along the x-axis and by dy units along the y-axis, and\n",
    "    c. overloads the __str__ operator so it behaves as shown below.\n",
    "   \n",
    "- k = Kangaroo(0,0) \n",
    "- print(k) \n",
    "\n",
    "I am a Kangaroo located at coordinates (0,0) \n",
    "- k.put_in_pouch('doll') \n",
    "- k.put_in_pouch('firetruck') \n",
    "- k.put_in_pouch('kitten') \n",
    "- k.pouch_contents() \n",
    "\n",
    "['doll', 'firetruck', 'kitten']\n",
    "\n",
    "- k.jump(1,0) \n",
    "- k.jump(1,0) \n",
    "- k.jump(1,0) \n",
    "- print(k) \n",
    "\n",
    "I am a Kangaroo located at coordinates (3,0)\n",
    "\n"
   ]
  },
  {
   "cell_type": "code",
   "execution_count": 3,
   "id": "0665e162",
   "metadata": {},
   "outputs": [
    {
     "name": "stdout",
     "output_type": "stream",
     "text": [
      "['doll', 'firetruck', 'kitten']\n",
      "I am a Kangaroo located at coordinates (0,0)\n",
      "['doll', 'firetruck', 'kitten']\n",
      "I am a Kangaroo located at coordinates (3,0)\n"
     ]
    }
   ],
   "source": [
    "#Define a class 'Marsupial'\n",
    "class Marsupial:\n",
    "    \n",
    "    #Initializes an empty pouch\n",
    "    def __init__(self):\n",
    "        self.pouch = []\n",
    "    \n",
    "    #Add an item\n",
    "    def put_in_pouch(self, item):\n",
    "        self.pouch.append(item)\n",
    "\n",
    "    #Get the contents \n",
    "    def pouch_contents(self):\n",
    "        return self.pouch\n",
    "\n",
    "#Define a class 'Kangaroo' that inherits from 'Marsupial'\n",
    "class Kangaroo(Marsupial):\n",
    "    def __init__(self, x, y):\n",
    "        \n",
    "        #Location of Kangaroo\n",
    "        super().__init__()\n",
    "        self.x = x\n",
    "        self.y = y\n",
    "\n",
    "    #Change the location of Kangaroo\n",
    "    def jump(self, dx, dy):\n",
    "        self.x += dx\n",
    "        self.y += dy\n",
    "\n",
    "    def __str__(self):\n",
    "        return f\"I am a Kangaroo located at coordinates ({self.x},{self.y})\"\n",
    "\n",
    "\n",
    "# Example usage:\n",
    "m = Marsupial()\n",
    "m.put_in_pouch('doll')\n",
    "m.put_in_pouch('firetruck')\n",
    "m.put_in_pouch('kitten')\n",
    "print(m.pouch_contents())  # Output: ['doll', 'firetruck', 'kitten']\n",
    "\n",
    "k = Kangaroo(0, 0)\n",
    "print(k)  # Output: I am a Kangaroo located at coordinates (0,0)\n",
    "\n",
    "k.put_in_pouch('doll')\n",
    "k.put_in_pouch('firetruck')\n",
    "k.put_in_pouch('kitten')\n",
    "print(k.pouch_contents())  # Output: ['doll', 'firetruck', 'kitten']\n",
    "\n",
    "k.jump(1, 0)\n",
    "k.jump(1, 0)\n",
    "k.jump(1, 0)\n",
    "print(k)  # Output: I am a Kangaroo located at coordinates (3,0)\n"
   ]
  },
  {
   "cell_type": "markdown",
   "id": "6cb7954c",
   "metadata": {},
   "source": [
    "### Question 4\n",
    "**Write function collatz() that takes a positive integer x as input and prints the Collatz sequence starting at x. A Collatz sequence is obtained by repeatedly applying this rule to the previous number x in the sequence**:\n",
    "           \n",
    "           x = { 𝑥/2     𝑖𝑓 𝑥 𝑖𝑠 𝑒𝑣𝑒𝑛\n",
    "                 3𝑥+1    𝑖𝑓 𝑥 𝑖𝑠 𝑜𝑑𝑑\n",
    "            \n",
    "            \n",
    "Your function should stop when the sequence gets to number 1. Your implementation must be recursive, without any loops.\n",
    "\n",
    "- collatz(1)\n",
    "\n",
    "1\n",
    "\n",
    "- collatz(10)\n",
    "\n",
    "10\n",
    "\n",
    "5\n",
    "\n",
    "16\n",
    "\n",
    "8\n",
    "\n",
    "4\n",
    "\n",
    "2\n",
    "\n",
    "1"
   ]
  },
  {
   "cell_type": "code",
   "execution_count": 4,
   "id": "078177ff",
   "metadata": {},
   "outputs": [
    {
     "name": "stdout",
     "output_type": "stream",
     "text": [
      "1\n",
      "\n",
      "\n",
      "10\n",
      "5\n",
      "16\n",
      "8\n",
      "4\n",
      "2\n",
      "1\n"
     ]
    }
   ],
   "source": [
    "#Define function collatz\n",
    "def collatz(x):\n",
    "    #Print value of x\n",
    "    print(x)\n",
    "    \n",
    "    #Recursion statements to change values\n",
    "    if x == 1:\n",
    "        return\n",
    "    elif x % 2 == 0:\n",
    "        collatz(x // 2)\n",
    "    else:\n",
    "        collatz(3 * x + 1)\n",
    "\n",
    "# Test cases:\n",
    "collatz(1)\n",
    "print(\"\\n\")\n",
    "collatz(10)\n",
    "\n"
   ]
  },
  {
   "cell_type": "markdown",
   "id": "4324b26d",
   "metadata": {},
   "source": [
    "### Question 5\n",
    "**Write a recursive method binary() that takes a non-negative integer n and prints the binary representation of integer n**. \n",
    "\n",
    "- binary(0) 0 \n",
    "- binary(1) 1 \n",
    "- binary(3) 11 \n",
    "- binary(9) 1001"
   ]
  },
  {
   "cell_type": "code",
   "execution_count": 6,
   "id": "438e2fff",
   "metadata": {},
   "outputs": [
    {
     "name": "stdout",
     "output_type": "stream",
     "text": [
      "Enter a non-negative integer: -9\n",
      "1001"
     ]
    }
   ],
   "source": [
    "#Define function binary to convert number to binary\n",
    "def binary(n):\n",
    "    \n",
    "    #Recursion to perform binary\n",
    "    if n > 1:\n",
    "        binary(n // 2)\n",
    "    print(n % 2, end='')\n",
    "\n",
    "# Getting imput from user with absolute function \n",
    "user_input = binary(abs(int(input(\"Enter a non-negative integer: \"))))\n"
   ]
  },
  {
   "cell_type": "markdown",
   "id": "d58b2b1c",
   "metadata": {},
   "source": [
    "### Question 6\n",
    "\n",
    "Implement a class named HeadingParser that can be used to parse an HTML document, and retrieve and print all the headings in the document. You should implement your class as a subclass of HTMLParser, defined in Standard Library module html.parser. When fed a string containing HTML code, your class should print the headings, one per line and in the order in which they appear in the document. Each heading should be indented as follows: an h1 heading should have indentation 0, and h2 heading should have indentation 1, etc. Test your implementation using w3c.html.\n",
    "\n",
    "- infile = open('w3c.html')\n",
    "- content = infile.read()\n",
    "- infile.close()\n",
    "- hp = HeadingParser()\n",
    "- hp.feed(content)\n",
    "\n",
    "\n",
    "W3C Mission\n",
    "Principles"
   ]
  },
  {
   "cell_type": "code",
   "execution_count": null,
   "id": "80a77b8a",
   "metadata": {},
   "outputs": [],
   "source": []
  },
  {
   "cell_type": "markdown",
   "id": "ffdb3076",
   "metadata": {},
   "source": [
    "### Question 7\n",
    "\n",
    "Implement recursive function webdir() that takes as input: a URL (as a string) and non-negative integers depth and indent. Your function should visit every web page reachable from the starting URL web page in depth clicks or less, and print each web page's URL. As shown below, indentation, specified by indent, should be used to indicate the depth of a URL. \n",
    "\n",
    "\n",
    "webdir('http://reed.cs.depaul.edu/lperkovic/csc242/test1.html', 2, 0)                                 http://reed.cs.depaul.edu/lperkovic/csc242/test1.html http://reed.cs.depaul.edu/lperkovic/csc242/test2.html           http://reed.cs.depaul.edu/lperkovic/csc242/test4.html http://reed.cs.depaul.edu/lperkovic/csc242/test3.html http://reed.cs.depaul.edu/lperkovic/csc242/test4.html"
   ]
  },
  {
   "cell_type": "code",
   "execution_count": null,
   "id": "7129880f",
   "metadata": {},
   "outputs": [],
   "source": []
  },
  {
   "cell_type": "markdown",
   "id": "262da0e3",
   "metadata": {},
   "source": [
    "### Question 8\n",
    "**Write SQL queries on the below database table that return**:\n",
    "\n",
    "    a) All the temperature data.\n",
    "    b) All the cities, but without repetition.\n",
    "    c) All the records for India.\n",
    "    d) All the Fall records\n",
    "    e) The city, country, and season for which the average rainfall is between 200 and 400 millimeters.\n",
    "    f) The city and country for which the average Fall temperature is above 20 degrees, in increasing temperature order.\n",
    "    g) The total annual rainfall for Cairo.\n",
    "    h) The total rainfall for each season."
   ]
  },
  {
   "cell_type": "code",
   "execution_count": 10,
   "id": "f0a303b5",
   "metadata": {},
   "outputs": [],
   "source": [
    "import sqlite3\n",
    "\n",
    "#Establishing connection\n",
    "database_connection = sqlite3.connect('Weather_data.db') ##Creating a new database"
   ]
  },
  {
   "cell_type": "code",
   "execution_count": 11,
   "id": "0b57b982",
   "metadata": {},
   "outputs": [],
   "source": [
    "cursor = database_connection.cursor()\n",
    "\n",
    "#Creating table weather\n",
    "cursor.execute('''\n",
    "    CREATE TABLE if not exists weather (\n",
    "        City text,\n",
    "        Country text,\n",
    "        Season text,\n",
    "        Temperature real,\n",
    "        Rainfall real\n",
    "    )\n",
    "''')\n",
    "# Inserting data into the table\n",
    "data = [\n",
    "    ('Mumbai', 'India', 'Winter', 24.8, 5.9),\n",
    "    ('Mumbai', 'India', 'Spring', 28.4, 16.2),\n",
    "    ('Mumbai', 'India', 'Summer', 27.9, 1549.4),\n",
    "    ('Mumbai', 'India', 'Fall', 27.6, 346.0),\n",
    "    ('London', 'United Kingdom', 'Winter', 4.2, 207.7),\n",
    "    ('London', 'United Kingdom', 'Spring', 8.3, 169.6),\n",
    "    ('London', 'United Kingdom', 'Summer', 15.7, 157.0),\n",
    "    ('London', 'United Kingdom', 'Fall', 10.4, 218.5),\n",
    "    ('Cairo', 'Egypt', 'Winter', 13.6, 16.5),\n",
    "    ('Cairo', 'Egypt', 'Spring', 20.7, 6.5),\n",
    "    ('Cairo', 'Egypt', 'Summer', 27.7, 0.1),\n",
    "    ('Cairo', 'Egypt', 'Fall', 22.2, 4.5)\n",
    "]\n",
    "\n",
    "cursor.executemany('''\n",
    "    INSERT INTO weather (City, Country, Season, Temperature, Rainfall)\n",
    "    VALUES (?, ?, ?, ?, ?)\n",
    "''', data)\n",
    "\n",
    "# Commit the changes\n",
    "database_connection.commit()\n"
   ]
  },
  {
   "cell_type": "code",
   "execution_count": 12,
   "id": "5b6546f7",
   "metadata": {},
   "outputs": [
    {
     "data": {
      "text/plain": [
       "[(24.8,),\n",
       " (28.4,),\n",
       " (27.9,),\n",
       " (27.6,),\n",
       " (4.2,),\n",
       " (8.3,),\n",
       " (15.7,),\n",
       " (10.4,),\n",
       " (13.6,),\n",
       " (20.7,),\n",
       " (27.7,),\n",
       " (22.2,)]"
      ]
     },
     "execution_count": 12,
     "metadata": {},
     "output_type": "execute_result"
    }
   ],
   "source": [
    "#: a) All the temperature data.\n",
    "\n",
    "cursor.execute('SELECT Temperature FROM weather')\n",
    "cursor.fetchall()"
   ]
  },
  {
   "cell_type": "code",
   "execution_count": 13,
   "id": "eff55277",
   "metadata": {},
   "outputs": [
    {
     "data": {
      "text/plain": [
       "[('Mumbai',), ('London',), ('Cairo',)]"
      ]
     },
     "execution_count": 13,
     "metadata": {},
     "output_type": "execute_result"
    }
   ],
   "source": [
    "# b) All the cities, but without repetition.\n",
    "\n",
    "cursor.execute('SELECT DISTINCT City FROM weather')\n",
    "cursor.fetchall()"
   ]
  },
  {
   "cell_type": "code",
   "execution_count": 14,
   "id": "de0493ea",
   "metadata": {},
   "outputs": [
    {
     "data": {
      "text/plain": [
       "[('Mumbai', 'India', 'Winter', 24.8, 5.9),\n",
       " ('Mumbai', 'India', 'Spring', 28.4, 16.2),\n",
       " ('Mumbai', 'India', 'Summer', 27.9, 1549.4),\n",
       " ('Mumbai', 'India', 'Fall', 27.6, 346.0)]"
      ]
     },
     "execution_count": 14,
     "metadata": {},
     "output_type": "execute_result"
    }
   ],
   "source": [
    "# c) All the records for India.\n",
    "\n",
    "cursor.execute('SELECT * FROM weather WHERE Country = \"India\"')\n",
    "cursor.fetchall()"
   ]
  },
  {
   "cell_type": "code",
   "execution_count": 15,
   "id": "0eab0b01",
   "metadata": {},
   "outputs": [
    {
     "data": {
      "text/plain": [
       "[('Mumbai', 'India', 'Fall', 27.6, 346.0),\n",
       " ('London', 'United Kingdom', 'Fall', 10.4, 218.5),\n",
       " ('Cairo', 'Egypt', 'Fall', 22.2, 4.5)]"
      ]
     },
     "execution_count": 15,
     "metadata": {},
     "output_type": "execute_result"
    }
   ],
   "source": [
    "# d) All the Fall records\n",
    "cursor.execute('SELECT * FROM weather Where Season = \"Fall\"')\n",
    "cursor.fetchall()"
   ]
  },
  {
   "cell_type": "code",
   "execution_count": 16,
   "id": "f3596d87",
   "metadata": {},
   "outputs": [
    {
     "data": {
      "text/plain": [
       "[('London', 'United Kingdom', 'Fall'),\n",
       " ('London', 'United Kingdom', 'Winter'),\n",
       " ('Mumbai', 'India', 'Fall')]"
      ]
     },
     "execution_count": 16,
     "metadata": {},
     "output_type": "execute_result"
    }
   ],
   "source": [
    "# e) The city, country, and season for which the average rainfall is between 200 and 400 millimeters.\n",
    "\n",
    "cursor.execute('SELECT City,Country,Season FROM weather GROUP BY City,Country,Season HAVING AVG(Rainfall) BETWEEN 200 AND 400')\n",
    "cursor.fetchall()"
   ]
  },
  {
   "cell_type": "code",
   "execution_count": 17,
   "id": "928c27ac",
   "metadata": {},
   "outputs": [
    {
     "data": {
      "text/plain": [
       "[('Cairo', 'Egypt'), ('Mumbai', 'India')]"
      ]
     },
     "execution_count": 17,
     "metadata": {},
     "output_type": "execute_result"
    }
   ],
   "source": [
    "# f) The city and country for which the average Fall temperature is above 20 degrees, in increasing temperature order.\n",
    "\n",
    "cursor.execute('SELECT City,Country FROM weather WHERE Season = \"Fall\" GROUP BY City, Country HAVING AVG(Temperature) > 20 ORDER BY AVG(Temperature) ASC')\n",
    "cursor.fetchall()"
   ]
  },
  {
   "cell_type": "code",
   "execution_count": 18,
   "id": "c56f3ef6",
   "metadata": {},
   "outputs": [
    {
     "data": {
      "text/plain": [
       "[(27.6,)]"
      ]
     },
     "execution_count": 18,
     "metadata": {},
     "output_type": "execute_result"
    }
   ],
   "source": [
    "# g) The total annual rainfall for Cairo.\n",
    "\n",
    "cursor.execute('SELECT sum(Rainfall) FROM weather Where City = \"Cairo\"')\n",
    "cursor.fetchall()"
   ]
  },
  {
   "cell_type": "code",
   "execution_count": 19,
   "id": "7fa37b0c",
   "metadata": {},
   "outputs": [
    {
     "name": "stdout",
     "output_type": "stream",
     "text": [
      "[('Fall', 569.0), ('Spring', 192.3), ('Summer', 1706.5), ('Winter', 230.1)]\n"
     ]
    }
   ],
   "source": [
    "# h) The total rainfall for each season.\n",
    "\n",
    "cursor.execute('SELECT Season,sum(Rainfall) FROM weather GROUP BY Season')\n",
    "results = cursor.fetchall()\n",
    "formatted_results = [(season, round(rainfall, 1)) for season, rainfall in results]\n",
    "print(formatted_results)"
   ]
  },
  {
   "cell_type": "code",
   "execution_count": 20,
   "id": "ebcc08f8",
   "metadata": {},
   "outputs": [],
   "source": [
    "#Closing the database after finishing the queries\n",
    "database_connection.close()"
   ]
  },
  {
   "cell_type": "markdown",
   "id": "8d06f1e6",
   "metadata": {},
   "source": [
    "### Question 9\n",
    "\n",
    "**Suppose list words is defined as follows**:\n",
    "\n",
    "- words = ['The', 'quick', 'brown', 'fox', 'jumps', 'over', 'the', 'lazy', 'dog']\n",
    "Write list comprehension expressions that use list words and generate the following lists:\n",
    "\n",
    "    a) ['THE', 'QUICK', 'BROWN', 'FOX', 'JUMPS', 'OVER', 'THE', 'LAZY', 'DOG']\n",
    "\n",
    "    b) ['the', 'quick', 'brown', 'fox', 'jumps', 'over', 'the', 'lazy', 'dog']\n",
    "\n",
    "    c) [3, 5, 5, 3, 5, 4, 3, 4, 3] (the list of lengths of words in list words).\n",
    "\n",
    "    d) [['THE', 'the', 3], ['QUICK', 'quick', 5], ['BROWN', 'brown', 5], ['FOX', 'fox', 3], ['JUMPS', 'jumps', 5], ['OVER', 'over', 4], ['THE', 'the', 3], ['LAZY', 'lazy', 4], ['DOG', 'dog', 3]] (the list containing a list for every word of list words, where each list contains the word in uppercase and lowercase and the length of the word.)\n",
    "\n",
    "    e) ['The', 'quick', 'brown', 'fox', 'jumps', 'over', 'the', 'lazy', 'dog'] (the list of words in list words containing 4 or more characters.)"
   ]
  },
  {
   "cell_type": "code",
   "execution_count": 21,
   "id": "1209cd01",
   "metadata": {},
   "outputs": [
    {
     "name": "stdout",
     "output_type": "stream",
     "text": [
      "a) Uppercase words: ['THE', 'QUICK', 'BROWN', 'FOX', 'JUMPS', 'OVER', 'THE', 'LAZY', 'DOG']\n",
      "b) Lowercase words: ['the', 'quick', 'brown', 'fox', 'jumps', 'over', 'the', 'lazy', 'dog']\n",
      "c) Word lengths: [3, 5, 5, 3, 5, 4, 3, 4, 3]\n",
      "d) Word information: [['THE', 'the', 3], ['QUICK', 'quick', 5], ['BROWN', 'brown', 5], ['FOX', 'fox', 3], ['JUMPS', 'jumps', 5], ['OVER', 'over', 4], ['THE', 'the', 3], ['LAZY', 'lazy', 4], ['DOG', 'dog', 3]]\n",
      "e) Words with 4 or more characters: ['quick', 'brown', 'jumps', 'over', 'lazy']\n"
     ]
    }
   ],
   "source": [
    "#Create the word list\n",
    "\n",
    "words = ['The', 'quick', 'brown', 'fox', 'jumps', 'over', 'the', 'lazy', 'dog']\n",
    "\n",
    "# a) Uppercase version of each word\n",
    "uppercase_words = [word.upper() for word in words]\n",
    "print(\"a) Uppercase words:\", uppercase_words)\n",
    "\n",
    "# b) Lowercase version of each word\n",
    "lowercase_words = [word.lower() for word in words]\n",
    "print(\"b) Lowercase words:\", lowercase_words)\n",
    "\n",
    "# c) Lengths of words in the list\n",
    "word_lengths = [len(word) for word in words]\n",
    "print(\"c) Word lengths:\", word_lengths)\n",
    "\n",
    "# d) List containing a list for every word, with uppercase, lowercase, and length\n",
    "word_info = [[word.upper(), word.lower(), len(word)] for word in words]\n",
    "print(\"d) Word information:\", word_info)\n",
    "\n",
    "# e) Words with 4 or more characters\n",
    "four_or_more_characters = [word for word in words if len(word) >= 4]\n",
    "print(\"e) Words with 4 or more characters:\", four_or_more_characters)\n"
   ]
  },
  {
   "cell_type": "code",
   "execution_count": null,
   "id": "cfb7519f",
   "metadata": {},
   "outputs": [],
   "source": []
  }
 ],
 "metadata": {
  "kernelspec": {
   "display_name": "Python 3 (ipykernel)",
   "language": "python",
   "name": "python3"
  },
  "language_info": {
   "codemirror_mode": {
    "name": "ipython",
    "version": 3
   },
   "file_extension": ".py",
   "mimetype": "text/x-python",
   "name": "python",
   "nbconvert_exporter": "python",
   "pygments_lexer": "ipython3",
   "version": "3.9.13"
  }
 },
 "nbformat": 4,
 "nbformat_minor": 5
}
